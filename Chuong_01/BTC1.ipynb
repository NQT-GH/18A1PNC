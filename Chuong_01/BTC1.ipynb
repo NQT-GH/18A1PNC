{
 "cells": [
  {
   "cell_type": "markdown",
   "id": "3c007edc",
   "metadata": {},
   "source": [
    "Bài 1:"
   ]
  },
  {
   "cell_type": "code",
   "execution_count": 1,
   "id": "d5185739",
   "metadata": {},
   "outputs": [
    {
     "name": "stdout",
     "output_type": "stream",
     "text": [
      "Chiều dài: 1\n",
      "Chiều rộng: 1\n",
      "Chu vi: 4\n",
      "Diện tích: 1\n"
     ]
    }
   ],
   "source": [
    "class HinhChuNhat:\n",
    "    def __init__(self, dai=0, rong=0):\n",
    "        self.dai = dai\n",
    "        self.rong = rong\n",
    "\n",
    "    def nhap_du_lieu(self):\n",
    "        self.dai = float(input(\"Nhập chiều dài: \"))\n",
    "        self.rong = float(input(\"Nhập chiều rộng: \"))\n",
    "\n",
    "    def tinh_chu_vi(self):\n",
    "        return 2 * (self.dai + self.rong)\n",
    "\n",
    "    def tinh_dien_tich(self):\n",
    "        return self.dai * self.rong\n",
    "\n",
    "    def hien_thi(self):\n",
    "        print(f\"Chiều dài: {self.dai}\")\n",
    "        print(f\"Chiều rộng: {self.rong}\")\n",
    "        print(f\"Chu vi: {self.tinh_chu_vi()}\")\n",
    "        print(f\"Diện tích: {self.tinh_dien_tich()}\")\n",
    "\n",
    "\n",
    "hcn = HinhChuNhat(1, 1)\n",
    "hcn.hien_thi()"
   ]
  },
  {
   "cell_type": "markdown",
   "id": "d630062b",
   "metadata": {},
   "source": [
    "Bài 2:"
   ]
  },
  {
   "cell_type": "code",
   "execution_count": null,
   "id": "eeec28d4",
   "metadata": {},
   "outputs": [],
   "source": [
    "class ThiSinh:\n",
    "    def __init__(self, ho_ten: str, toan: int, ly: int, hoa: int):\n",
    "        self.ho_ten = ho_ten\n",
    "        self.toan = toan\n",
    "        self.ly = ly\n",
    "        self.hoa = hoa\n",
    "\n",
    "    def nhap_thong_tin(self):\n",
    "        self.ho_ten = input(\"\\nNhập họ tên thí sinh: \")\n",
    "        self.toan = float(input(\"Điểm Toán: \"))\n",
    "        self.ly = float(input(\"Điểm Lý: \"))\n",
    "        self.hoa = float(input(\"Điểm Hóa: \"))\n",
    "\n",
    "    def tinh_tong_diem(self):\n",
    "        return self.toan + self.ly + self.hoa\n",
    "\n",
    "    def hien_thi(self):\n",
    "        print(f\"{self.ho_ten} - Tổng điểm: {self.tinh_tong_diem()}\")\n",
    "\n",
    "\n",
    "danh_sach = []\n",
    "n = int(input(\"Nhập số lượng thí sinh: \"))\n",
    "for i in range(n):\n",
    "    ts = ThiSinh()\n",
    "    ts.nhap_thong_tin()\n",
    "    danh_sach.append(ts)\n",
    "\n",
    "# Hiển thị danh sách\n",
    "print(\"\\nDanh sách thí sinh:\")\n",
    "for ts in danh_sach:\n",
    "    ts.hien_thi()\n",
    "\n",
    "# Hiển thị danh sách trúng tuyển\n",
    "diem_chuan = float(input(\"\\nNhập điểm chuẩn: \"))\n",
    "print(f\"\\nDanh sách thí sinh trúng tuyển (điểm >= {diem_chuan}):\")\n",
    "for ts in danh_sach:\n",
    "    if ts.tinh_tong_diem() >= diem_chuan:\n",
    "        ts.hien_thi()\n"
   ]
  },
  {
   "cell_type": "markdown",
   "id": "1789c1d0",
   "metadata": {},
   "source": [
    "Bài 3:"
   ]
  },
  {
   "cell_type": "code",
   "execution_count": 21,
   "id": "0dc4f446",
   "metadata": {},
   "outputs": [
    {
     "name": "stdout",
     "output_type": "stream",
     "text": [
      "Phân số: 1/2\n"
     ]
    }
   ],
   "source": [
    "from math import gcd\n",
    "\n",
    "class PhanSo:\n",
    "    def __init__(self, tu, mau):\n",
    "        self.tu = tu\n",
    "        self.mau = mau\n",
    "\n",
    "    def nhap(self):\n",
    "        self.tu = int(input(\"Nhập tử số: \"))\n",
    "        self.mau = int(input(\"Nhập mẫu số: \"))\n",
    "        while self.mau == 0:\n",
    "            print(\"Mẫu số phải khác 0\")\n",
    "            self.mau = int(input(\"Nhập mẫu số: \"))\n",
    "\n",
    "    def kiem_tra_hop_le(self):\n",
    "        return self.mau != 0\n",
    "\n",
    "    def toi_gian(self):\n",
    "        ucln = gcd(self.tu, self.mau)\n",
    "        self.tu //= ucln\n",
    "        self.mau //= ucln\n",
    "\n",
    "    def hien_thi(self):\n",
    "        self.toi_gian()\n",
    "        print(f\"Phân số: {self.tu}/{self.mau}\")\n",
    "\n",
    "ps = PhanSo(3, 6)\n",
    "ps.hien_thi()\n"
   ]
  },
  {
   "cell_type": "markdown",
   "id": "4e6e2432",
   "metadata": {},
   "source": [
    "Bài 4:"
   ]
  },
  {
   "cell_type": "code",
   "execution_count": 6,
   "id": "1f0b8be8",
   "metadata": {},
   "outputs": [
    {
     "name": "stdout",
     "output_type": "stream",
     "text": [
      "isEmpty True\n",
      "isFull True\n"
     ]
    }
   ],
   "source": [
    "class Stack:\n",
    "    def __init__(self, size):\n",
    "        self.size = size\n",
    "        self.stack = []\n",
    "\n",
    "    def isEmpty(self):\n",
    "        return len(self.stack) == 0\n",
    "\n",
    "    def isFull(self):\n",
    "        return len(self.stack) == self.size\n",
    "\n",
    "    def push(self, value):\n",
    "        if not self.isFull():\n",
    "            self.stack.append(value)\n",
    "        else:\n",
    "            print(\"Ngăn xếp đầy\")\n",
    "\n",
    "    def pop(self):\n",
    "        if not self.isEmpty():\n",
    "            return self.stack.pop()\n",
    "        else:\n",
    "            print(\"Ngăn xếp rỗng\")\n",
    "            return None\n",
    "\n",
    "stack = Stack(1)\n",
    "print('isEmpty', stack.isEmpty())\n",
    "stack.push(4.5)\n",
    "print('isFull', stack.isFull())"
   ]
  },
  {
   "cell_type": "markdown",
   "id": "f8998fe7",
   "metadata": {},
   "source": [
    "Bài 5:"
   ]
  },
  {
   "cell_type": "code",
   "execution_count": 9,
   "id": "be2c21a0",
   "metadata": {},
   "outputs": [
    {
     "data": {
      "text/plain": [
       "1"
      ]
     },
     "execution_count": 9,
     "metadata": {},
     "output_type": "execute_result"
    }
   ],
   "source": [
    "class Stack:\n",
    "    def __init__(self, size):\n",
    "        self.size = size\n",
    "        self.stack = []\n",
    "\n",
    "    def isEmpty(self):\n",
    "        return len(self.stack) == 0\n",
    "\n",
    "    def isFull(self):\n",
    "        return len(self.stack) == self.size\n",
    "\n",
    "    def push(self, value):\n",
    "        if not self.isFull():\n",
    "            self.stack.append(value)\n",
    "        else:\n",
    "            print(\"Ngăn xếp đầy\")\n",
    "\n",
    "    def pop(self):\n",
    "        if not self.isEmpty():\n",
    "            return self.stack.pop()\n",
    "        else:\n",
    "            print(\"Ngăn xếp rỗng\")\n",
    "            return None\n",
    "\n",
    "class Stack2(Stack):\n",
    "    def __init__(self, size):\n",
    "        super().__init__(size)\n",
    "        self.size = size\n",
    "        self.stack = []\n",
    "    \n",
    "    def count(self):\n",
    "        return len(self.stack)\n",
    "\n",
    "stack2 = Stack2(2)\n",
    "stack2.push(1.3)\n",
    "stack2.count()"
   ]
  },
  {
   "cell_type": "markdown",
   "id": "26b97f30",
   "metadata": {},
   "source": [
    "Bài 6:"
   ]
  },
  {
   "cell_type": "code",
   "execution_count": 11,
   "id": "a8a74e28",
   "metadata": {},
   "outputs": [
    {
     "name": "stdout",
     "output_type": "stream",
     "text": [
      "Stack: [3.3]\n"
     ]
    }
   ],
   "source": [
    "class Stack:\n",
    "    def __init__(self, size):\n",
    "        self.size = size\n",
    "        self.stack = []\n",
    "\n",
    "    def isEmpty(self):\n",
    "        return len(self.stack) == 0\n",
    "\n",
    "    def isFull(self):\n",
    "        return len(self.stack) == self.size\n",
    "\n",
    "    def push(self, value):\n",
    "        if not self.isFull():\n",
    "            self.stack.append(value)\n",
    "        else:\n",
    "            print(\"Ngăn xếp đầy\")\n",
    "\n",
    "    def pop(self):\n",
    "        if not self.isEmpty():\n",
    "            return self.stack.pop()\n",
    "        else:\n",
    "            print(\"Ngăn xếp rỗng\")\n",
    "            return None\n",
    "\n",
    "class Stack3(Stack):\n",
    "    def __init__(self, size):\n",
    "        super().__init__(size)\n",
    "        self.size = size\n",
    "        self.stack = []\n",
    "    \n",
    "    def print(self):\n",
    "        if not self.isEmpty():\n",
    "            print(\"Stack:\", self.stack)\n",
    "        else:\n",
    "            print(\"Ngăn xếp rỗng\")\n",
    "\n",
    "stack3 = Stack3(2)\n",
    "stack3.push(3.3)\n",
    "stack3.print()"
   ]
  },
  {
   "cell_type": "markdown",
   "id": "1360bb3a",
   "metadata": {},
   "source": [
    "Bài 7:"
   ]
  },
  {
   "cell_type": "code",
   "execution_count": 14,
   "id": "a6c6f429",
   "metadata": {},
   "outputs": [
    {
     "name": "stdout",
     "output_type": "stream",
     "text": [
      "03/05/2025\n"
     ]
    }
   ],
   "source": [
    "class Date:\n",
    "    def __init__(self, ngay, thang, nam):\n",
    "        self.ngay = ngay\n",
    "        self.thang = thang\n",
    "        self.nam = nam\n",
    "\n",
    "    def nhap(self):\n",
    "        self.ngay = int(input(\"Nhập ngày: \"))\n",
    "        self.thang = int(input(\"Nhập tháng: \"))\n",
    "        self.nam = int(input(\"Nhập năm: \"))\n",
    "\n",
    "    def hien_thi(self):\n",
    "        print(f\"{self.ngay:02d}/{self.thang:02d}/{self.nam}\")\n",
    "\n",
    "date = Date(3, 5, 2025)\n",
    "date.hien_thi()"
   ]
  },
  {
   "cell_type": "markdown",
   "id": "666f1cb2",
   "metadata": {},
   "source": [
    "Bài 8:"
   ]
  },
  {
   "cell_type": "code",
   "execution_count": 15,
   "id": "8e5ba6d8",
   "metadata": {},
   "outputs": [
    {
     "name": "stdout",
     "output_type": "stream",
     "text": [
      "Tên: Nguyen Quang Truong\n",
      "Ngày sinh: 04/06/2025\n"
     ]
    }
   ],
   "source": [
    "class Employee(Date):\n",
    "    def __init__(self, ten, ngay, thang, nam):\n",
    "        super().__init__(ngay, thang, nam)\n",
    "        self.ten = ten\n",
    "        self.ngay_sinh = (ngay, thang, nam)\n",
    "\n",
    "    def nhap(self):\n",
    "        self.ten = input(\"Nhập tên nhân viên: \")\n",
    "        super().nhap()\n",
    "\n",
    "    def hien_thi(self):\n",
    "        print(f\"Tên: {self.ten}\")\n",
    "        print(f\"Ngày sinh: \", end='')\n",
    "        super().hien_thi()\n",
    "\n",
    "employee = Employee('Nguyen Quang Truong', 4, 6, 2025)\n",
    "employee.hien_thi()"
   ]
  },
  {
   "cell_type": "markdown",
   "id": "bd82232f",
   "metadata": {},
   "source": [
    "Bài 9:"
   ]
  },
  {
   "cell_type": "code",
   "execution_count": null,
   "id": "43bca98e",
   "metadata": {},
   "outputs": [],
   "source": [
    "class DaGiac:\n",
    "    def __init__(self, day, cao):\n",
    "        self.day = day\n",
    "        self.cao = cao\n",
    "    def dien_tich(self):\n",
    "        return self.day * self.cao\n",
    "\n",
    "class HinhBinhHanh(DaGiac):\n",
    "    def __init__(self, day, cao):\n",
    "        super().__init__(day, cao)\n",
    "    \n",
    "    def nhap(self):\n",
    "        self.day = float(input(\"Nhập đáy hình bình hành: \"))\n",
    "        self.cao = float(input(\"Nhập chiều cao hình bình hành: \"))\n",
    "\n",
    "class HinhChuNhat(HinhBinhHanh):\n",
    "    def __init__(self, dai, rong):\n",
    "        super().__init__(dai, rong)\n",
    "    \n",
    "    def nhap(self):\n",
    "        self.day = float(input(\"Nhập chiều dài hình chữ nhật: \"))\n",
    "        self.cao = float(input(\"Nhập chiều rộng hình chữ nhật: \"))\n",
    "\n",
    "class HinhVuong(HinhChuNhat):\n",
    "    def __init__(self, dai):\n",
    "        super().__init__(dai, dai)\n",
    "    \n",
    "    def nhap(self):\n",
    "        self.day = float(input(\"Nhập chiều dài cạnh hình vuong: \"))\n",
    "        self.cao = self.day\n",
    "    \n"
   ]
  },
  {
   "cell_type": "markdown",
   "id": "2755ad7f",
   "metadata": {},
   "source": [
    "Bài 10:"
   ]
  },
  {
   "cell_type": "code",
   "execution_count": 20,
   "id": "7a44678f",
   "metadata": {},
   "outputs": [
    {
     "name": "stdout",
     "output_type": "stream",
     "text": [
      "Nhập thông tin elip:\n",
      "Tâm (0, 0), Elip với a=2, b=3, Diện tích=18.85\n",
      "\n",
      "Nhập thông tin đường tròn:\n",
      "Tâm (1, 2), Elip với a=3, b=3, Diện tích=28.27, Đường tròn với r=3, Diện tích=28.27\n"
     ]
    }
   ],
   "source": [
    "import math\n",
    "\n",
    "class Diem:\n",
    "    def __init__(self, x=0, y=0):\n",
    "        self.x = x\n",
    "        self.y = y\n",
    "\n",
    "    def nhap(self):\n",
    "        self.x = float(input(\"Nhập hoành độ x: \"))\n",
    "        self.y = float(input(\"Nhập tung độ y: \"))\n",
    "\n",
    "    def __str__(self):\n",
    "        return f\"({self.x}, {self.y})\"\n",
    "\n",
    "class Elip(Diem):\n",
    "    def __init__(self, x=0, y=0, ban_truc_lon=0, ban_truc_nho=0):\n",
    "        super().__init__(x, y)\n",
    "        self.ban_truc_lon = ban_truc_lon\n",
    "        self.ban_truc_nho = ban_truc_nho\n",
    "\n",
    "    def nhap(self):\n",
    "        super().nhap()\n",
    "        self.ban_truc_lon = float(input(\"Nhập bán trục lớn a: \"))\n",
    "        self.ban_truc_nho = float(input(\"Nhập bán trục nhỏ b: \"))\n",
    "\n",
    "    def dien_tich(self):\n",
    "        return math.pi * self.ban_truc_lon * self.ban_truc_nho\n",
    "\n",
    "    def __str__(self):\n",
    "        return f\"Tâm {super().__str__()}, Elip với a={self.ban_truc_lon}, b={self.ban_truc_nho}, Diện tích={self.dien_tich():.2f}\"\n",
    "\n",
    "class DuongTron(Elip):\n",
    "    def __init__(self, x=0, y=0, ban_kinh=0):\n",
    "        super().__init__(x, y, ban_kinh, ban_kinh)\n",
    "\n",
    "    def nhap(self):\n",
    "        super().nhap()\n",
    "\n",
    "    def __str__(self):\n",
    "        return f\"{super().__str__()}, Đường tròn với r={self.ban_truc_lon}, Diện tích={self.dien_tich():.2f}\"\n",
    "\n",
    "\n",
    "print(\"Nhập thông tin elip:\")\n",
    "elip = Elip(0, 0, 2, 3)\n",
    "print(elip)\n",
    "\n",
    "print(\"\\nNhập thông tin đường tròn:\")\n",
    "duong_tron = DuongTron(1, 2, 3)\n",
    "print(duong_tron)"
   ]
  },
  {
   "cell_type": "markdown",
   "id": "687f5555",
   "metadata": {},
   "source": [
    "Bài 11:"
   ]
  },
  {
   "cell_type": "code",
   "execution_count": null,
   "id": "69006399",
   "metadata": {},
   "outputs": [],
   "source": [
    "import math\n",
    "\n",
    "class TamGiac:\n",
    "    def __init__(self, a=1, b=1, c=1):\n",
    "        self.a = a\n",
    "        self.b = b\n",
    "        self.c = c\n",
    "\n",
    "    def nhap(self):\n",
    "        self.a = float(input(\"Nhập cạnh a: \"))\n",
    "        self.b = float(input(\"Nhập cạnh b: \"))\n",
    "        self.c = float(input(\"Nhập cạnh c: \"))\n",
    "        while not self.la_tam_giac():\n",
    "            print(\"Ba cạnh không tạo thành tam giác. Nhập lại.\")\n",
    "            self.nhap()\n",
    "\n",
    "    def la_tam_giac(self):\n",
    "        return (\n",
    "            self.a + self.b > self.c and\n",
    "            self.a + self.c > self.b and\n",
    "            self.b + self.c > self.a\n",
    "        )\n",
    "\n",
    "    def chu_vi(self):\n",
    "        return self.a + self.b + self.c\n",
    "\n",
    "    def dien_tich(self):\n",
    "        p = self.chu_vi() / 2\n",
    "        return math.sqrt(p * (p - self.a) * (p - self.b) * (p - self.c))\n",
    "\n",
    "    def hienthi(self):\n",
    "        return f\"Tam giác với cạnh a={self.a}, b={self.b}, c={self.c}, diện tích = {self.dien_tich():.2f}\"\n",
    "\n",
    "# Lớp Tam Giác Vuông\n",
    "class TamGiacVuong(TamGiac):\n",
    "    def la_tam_giac_vuong(self):\n",
    "        canh = sorted([self.a, self.b, self.c])\n",
    "        return math.isclose(canh[0]**2 + canh[1]**2, canh[2]**2)\n",
    "\n",
    "    def hienthi(self):\n",
    "        kq = super().hienthi()\n",
    "        if self.la_tam_giac_vuong():\n",
    "            kq += \" → Đây là tam giác vuông.\"\n",
    "        else:\n",
    "            kq += \" → Không phải tam giác vuông.\"\n",
    "        return kq\n",
    "\n",
    "# Lớp Tam Giác Cân\n",
    "class TamGiacCan(TamGiac):\n",
    "    def la_tam_giac_can(self):\n",
    "        return self.a == self.b or self.a == self.c or self.b == self.c\n",
    "\n",
    "    def hienthi(self):\n",
    "        kq = super().hienthi()\n",
    "        if self.la_tam_giac_can():\n",
    "            kq += \" → Đây là tam giác cân.\"\n",
    "        else:\n",
    "            kq += \" → Không phải tam giác cân.\"\n",
    "        return kq\n",
    "\n",
    "# Lớp Tam Giác Đều\n",
    "class TamGiacDeu(TamGiacCan):\n",
    "    def la_tam_giac_deu(self):\n",
    "        return self.a == self.b == self.c\n",
    "\n",
    "    def hienthi(self):\n",
    "        kq = super().hienthi()\n",
    "        if self.la_tam_giac_deu():\n",
    "            kq += \" → Đây là tam giác đều.\"\n",
    "        else:\n",
    "            kq += \" → Không phải tam giác đều.\"\n",
    "        return kq\n"
   ]
  }
 ],
 "metadata": {
  "kernelspec": {
   "display_name": "Python 3",
   "language": "python",
   "name": "python3"
  },
  "language_info": {
   "codemirror_mode": {
    "name": "ipython",
    "version": 3
   },
   "file_extension": ".py",
   "mimetype": "text/x-python",
   "name": "python",
   "nbconvert_exporter": "python",
   "pygments_lexer": "ipython3",
   "version": "3.13.0"
  }
 },
 "nbformat": 4,
 "nbformat_minor": 5
}
