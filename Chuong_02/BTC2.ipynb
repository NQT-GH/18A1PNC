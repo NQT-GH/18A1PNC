{
 "cells": [
  {
   "cell_type": "markdown",
   "id": "b1d548dd",
   "metadata": {},
   "source": [
    "Bài 2.7:"
   ]
  },
  {
   "cell_type": "code",
   "execution_count": 12,
   "id": "33a55619",
   "metadata": {},
   "outputs": [
    {
     "name": "stdout",
     "output_type": "stream",
     "text": [
      "{'name': 'Alice', 'age': 30, 'city': 'New York'}\n",
      "<class 'dict'>\n"
     ]
    }
   ],
   "source": [
    "import json\n",
    "\n",
    "json_string = '{\"name\": \"Alice\", \"age\": 30, \"city\": \"New York\"}'\n",
    "\n",
    "def toObj(json_string: str):\n",
    "    return json.loads(json_string)\n",
    "\n",
    "obj = toObj(json_string)\n",
    "print(obj)\n",
    "print(type(obj))"
   ]
  },
  {
   "cell_type": "markdown",
   "id": "9d893f7d",
   "metadata": {},
   "source": [
    "Bài 2.8:"
   ]
  },
  {
   "cell_type": "code",
   "execution_count": 13,
   "id": "73357e08",
   "metadata": {},
   "outputs": [
    {
     "name": "stdout",
     "output_type": "stream",
     "text": [
      "{\"name\": \"Alice\", \"age\": 30, \"city\": \"New York\"}\n",
      "<class 'str'>\n"
     ]
    }
   ],
   "source": [
    "from json.encoder import JSONEncoder\n",
    "\n",
    "encode = JSONEncoder().encode\n",
    "\n",
    "def toJson(obj: dict):\n",
    "    return encode(obj)\n",
    "\n",
    "json_string = toJson(obj)\n",
    "print(json_string)\n",
    "print(type(json_string))"
   ]
  },
  {
   "cell_type": "markdown",
   "id": "6269b9f5",
   "metadata": {},
   "source": [
    "Bài 2.9:"
   ]
  },
  {
   "cell_type": "code",
   "execution_count": 39,
   "id": "46d7a110",
   "metadata": {},
   "outputs": [
    {
     "name": "stdout",
     "output_type": "stream",
     "text": [
      "{\n",
      "     \"name\": \"Alice\"\n",
      "     \"age\": 30\n",
      "     \"city\": \"New York\"\n",
      "}\n"
     ]
    }
   ],
   "source": [
    "def print_json(d: dict):\n",
    "    s = encode(d)\n",
    "    print('{')\n",
    "    a = s[1:-1].split(', ')\n",
    "    for v in a:\n",
    "        print('    ', v)\n",
    "    print('}')\n",
    "\n",
    "print_json(obj)\n"
   ]
  },
  {
   "cell_type": "markdown",
   "id": "a258a034",
   "metadata": {},
   "source": [
    "Bài 2.10:"
   ]
  },
  {
   "cell_type": "code",
   "execution_count": 15,
   "id": "bc477fd6",
   "metadata": {},
   "outputs": [
    {
     "name": "stdout",
     "output_type": "stream",
     "text": [
      "Tên công ty: Công ty TNHH Đất Việt\n",
      "Địa chỉ: abc Giải Phóng - Giáp Bát\n",
      "--- Thống kê nhân viên theo đơn vị ---\n",
      "1. Tên đơn vị: Đơn vị A1\n",
      "\t- Số nhân viên: 13\n",
      "\t- Tỉ lệ: 15.29%\n",
      "2. Tên đơn vị: Đơn vị A2\n",
      "\t- Số nhân viên: 21\n",
      "\t- Tỉ lệ: 24.71%\n",
      "3. Tên đơn vị: Đơn vị A3\n",
      "\t- Số nhân viên: 17\n",
      "\t- Tỉ lệ: 20.00%\n",
      "4. Tên đơn vị: Đơn vị A4\n",
      "\t- Số nhân viên: 25\n",
      "\t- Tỉ lệ: 29.41%\n",
      "5. Tên đơn vị: Đơn vị A5\n",
      "\t- Số nhân viên: 9\n",
      "\t- Tỉ lệ: 10.59%\n"
     ]
    }
   ],
   "source": [
    "ct = {\n",
    "    \"ten_cong_ty\": \"Công ty TNHH Đất Việt\",\n",
    "    \"dia_chi\": \"abc Giải Phóng - Giáp Bát\",\n",
    "    \"don_vi\": {\n",
    "        \"A1\": {\n",
    "            \"so_nhan_vien\": 13,\n",
    "        },\n",
    "        \"A2\": {\n",
    "            \"so_nhan_vien\": 21,\n",
    "        },\n",
    "        \"A3\": {\n",
    "            \"so_nhan_vien\": 17,\n",
    "        },\n",
    "        \"A4\": {\n",
    "            \"so_nhan_vien\": 25,\n",
    "        },\n",
    "        \"A5\": {\n",
    "            \"so_nhan_vien\": 9,\n",
    "        }\n",
    "    }\n",
    "}\n",
    "\n",
    "def add(*n):\n",
    "    total = 0\n",
    "    for number in n:\n",
    "        total += number\n",
    "    return total\n",
    "\n",
    "def thong_ke(d: dict):\n",
    "    print('Tên công ty:', d['ten_cong_ty'])\n",
    "    print('Địa chỉ:', d['dia_chi'])\n",
    "    print('--- Thống kê nhân viên theo đơn vị ---')\n",
    "    tong_nhan_vien = add(*map(lambda dv: d['don_vi'][dv]['so_nhan_vien'], d['don_vi']))\n",
    "    i = 0\n",
    "    for k, v in d['don_vi'].items():\n",
    "        i += 1\n",
    "        n = v['so_nhan_vien']\n",
    "        print(str(i) + '.', 'Tên đơn vị: Đơn vị', k)\n",
    "        print('\\t- Số nhân viên:', n)\n",
    "        print('\\t- Tỉ lệ:', f'{n/tong_nhan_vien*100:.2f}%')\n",
    "\n",
    "thong_ke(ct)\n"
   ]
  },
  {
   "cell_type": "markdown",
   "id": "f9624700",
   "metadata": {},
   "source": [
    "Bài 2.11:"
   ]
  },
  {
   "cell_type": "code",
   "execution_count": 23,
   "id": "ce3aa746",
   "metadata": {},
   "outputs": [
    {
     "name": "stdout",
     "output_type": "stream",
     "text": [
      "Giao dịch thành công: 15000000 VND -> 1.0 chỉ vàng\n",
      "{'2025-10-20-12-13-14': {'tien': 15000000, 'vang': 1.0}, '2025-10-20-22-07-25': {'tien': 15000000, 'vang': 1.0}}\n"
     ]
    }
   ],
   "source": [
    "from datetime import datetime\n",
    "\n",
    "def giao_dich(tien: int | None, luu: int | None):\n",
    "    if not tien:\n",
    "        tien = int(input('Nhập số tiền giao dich:'))\n",
    "    vang = round(tien / 15000000, 2)\n",
    "    print('Giao dịch thành công:', tien, 'VND ->', vang, 'chỉ vàng')\n",
    "    if not luu:\n",
    "        luu = int(input('Bạn muốn lưu giao dịch không (Điền 1-CÓ hoặc 0-KHÔNG):'))\n",
    "    if luu == 1:\n",
    "        date = datetime.now().strftime(\"%Y-%m-%d-%H-%M-%S\")\n",
    "        f = \"nam-thang-ngay-gio-phut-giay.json\"\n",
    "        GD = 0\n",
    "        with open(f, \"r\") as file:\n",
    "            GD = json.load(file)\n",
    "            file.close()\n",
    "        with open(f, \"w\") as file:\n",
    "            GD[date] = { \"tien\": tien, \"vang\": vang }\n",
    "            print(GD)\n",
    "            file.write(encode(GD))\n",
    "            file.close()\n",
    "            \n",
    "giao_dich(15000000, 1)\n"
   ]
  }
 ],
 "metadata": {
  "kernelspec": {
   "display_name": "Python 3",
   "language": "python",
   "name": "python3"
  },
  "language_info": {
   "codemirror_mode": {
    "name": "ipython",
    "version": 3
   },
   "file_extension": ".py",
   "mimetype": "text/x-python",
   "name": "python",
   "nbconvert_exporter": "python",
   "pygments_lexer": "ipython3",
   "version": "3.13.0"
  }
 },
 "nbformat": 4,
 "nbformat_minor": 5
}
